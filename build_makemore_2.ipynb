{
 "cells": [
  {
   "cell_type": "code",
   "execution_count": 3,
   "id": "aed59c88-3832-43c6-8629-01fb1260db95",
   "metadata": {},
   "outputs": [],
   "source": [
    "import torch\n",
    "import torch.nn.functional as F\n",
    "import matplotlib.pyplot as plt\n",
    "%matplotlib inline"
   ]
  },
  {
   "cell_type": "code",
   "execution_count": 4,
   "id": "329d50c3-8ebe-44fd-8588-74bf9ab693d6",
   "metadata": {},
   "outputs": [
    {
     "data": {
      "text/plain": [
       "['emma', 'olivia', 'ava', 'isabella', 'sophia', 'charlotte', 'mia', 'amelia']"
      ]
     },
     "execution_count": 4,
     "metadata": {},
     "output_type": "execute_result"
    }
   ],
   "source": [
    "words = open('names.txt', 'r').read().splitlines()\n",
    "words[:8]"
   ]
  },
  {
   "cell_type": "code",
   "execution_count": 5,
   "id": "c9f863b9-f17c-49f6-ac6b-38c28410d231",
   "metadata": {},
   "outputs": [
    {
     "data": {
      "text/plain": [
       "32033"
      ]
     },
     "execution_count": 5,
     "metadata": {},
     "output_type": "execute_result"
    }
   ],
   "source": [
    "len(words)"
   ]
  },
  {
   "cell_type": "code",
   "execution_count": 6,
   "id": "cfb6ee8e-4d82-4bae-9975-c9495b7db099",
   "metadata": {},
   "outputs": [
    {
     "name": "stdout",
     "output_type": "stream",
     "text": [
      "{1: 'a', 2: 'b', 3: 'c', 4: 'd', 5: 'e', 6: 'f', 7: 'g', 8: 'h', 9: 'i', 10: 'j', 11: 'k', 12: 'l', 13: 'm', 14: 'n', 15: 'o', 16: 'p', 17: 'q', 18: 'r', 19: 's', 20: 't', 21: 'u', 22: 'v', 23: 'w', 24: 'x', 25: 'y', 26: 'z', 0: '.'}\n"
     ]
    }
   ],
   "source": [
    "#build the vocabulary of characters and mappings to/from integers\n",
    "chars = sorted(list(set(''.join(words))))\n",
    "stoi = {s:i+1 for i,s in enumerate(chars)}\n",
    "stoi['.'] = 0\n",
    "itos = {i:s for s,i in stoi.items()}\n",
    "print(itos)"
   ]
  },
  {
   "cell_type": "code",
   "execution_count": 7,
   "id": "a2434ff2-f7ee-4fa1-8f27-3ad752b71456",
   "metadata": {},
   "outputs": [],
   "source": [
    "#hyper parameters\n",
    "block_size = 5 #context size\n",
    "embdims = 30 #number of embeding dimensions\n",
    "non = 300 #number of neurons in hidden layer"
   ]
  },
  {
   "cell_type": "code",
   "execution_count": 8,
   "id": "27765721-64ae-4518-acde-f74a686f44aa",
   "metadata": {},
   "outputs": [
    {
     "name": "stdout",
     "output_type": "stream",
     "text": [
      "torch.Size([182625, 5]) torch.Size([182625])\n",
      "torch.Size([22655, 5]) torch.Size([22655])\n",
      "torch.Size([22866, 5]) torch.Size([22866])\n"
     ]
    }
   ],
   "source": [
    "#build the dataset\n",
    "def build_dataset(words):\n",
    "    X, Y = [], []\n",
    "\n",
    "    for w in words:\n",
    "    \n",
    "        #print(w)\n",
    "        context = [0] * block_size\n",
    "        for ch in w + '.':\n",
    "            ix = stoi[ch]\n",
    "            X.append(context)\n",
    "            Y.append(ix)\n",
    "            #print(''.join(itos[i] for i in context), '--->', itos[ix])\n",
    "            context = context[1:] + [ix]\n",
    "    \n",
    "    X = torch.tensor(X)\n",
    "    Y = torch.tensor(Y)\n",
    "    print(X.shape, Y.shape)\n",
    "    return X, Y\n",
    "\n",
    "import random\n",
    "random.seed(42)\n",
    "random.shuffle(words)\n",
    "n1 = int(0.8*len(words))\n",
    "n2 = int(0.9*len(words))\n",
    "\n",
    "Xtr, Ytr = build_dataset(words[:n1])\n",
    "Xdev, Ydev = build_dataset(words[n1:n2])\n",
    "Xte, Yte = build_dataset(words[n2:])"
   ]
  },
  {
   "cell_type": "code",
   "execution_count": 9,
   "id": "5b7a6976-29de-4fdd-b135-1a471679a413",
   "metadata": {},
   "outputs": [
    {
     "name": "stdout",
     "output_type": "stream",
     "text": [
      "54837\n"
     ]
    }
   ],
   "source": [
    "g = torch.Generator().manual_seed(2147483647)\n",
    "C = torch.randn((27,embdims), generator=g)\n",
    "W1 = torch.randn((block_size*embdims, non), generator=g) * (5/3)/(embdims*block_size)**0.5\n",
    "b1 = torch.randn(non, generator=g) * 0.001\n",
    "W2 = torch.randn((non, 27), generator=g) * 0.001\n",
    "b2 = torch.randn(27, generator=g) * 0.001\n",
    "\n",
    "bngain = torch.ones((1, non))\n",
    "bnbias = torch.zeros((1, non))\n",
    "\n",
    "parameters = [C, W1, b1, W2, b2, bngain, bnbias]\n",
    "print(sum(p.nelement() for p in parameters))\n",
    "for p in parameters:\n",
    "    p.requires_grad = True\n",
    "stepi, lossi = [], []"
   ]
  },
  {
   "cell_type": "code",
   "execution_count": 16,
   "id": "7b479d39-c4d0-4f32-a6ea-d355f29945ec",
   "metadata": {},
   "outputs": [
    {
     "name": "stdout",
     "output_type": "stream",
     "text": [
      "0.0 :  3.2641377449035645\n",
      "1.0 :  2.7681896686553955\n",
      "2.0 :  2.3311924934387207\n",
      "3.0 :  2.1323165893554688\n",
      "4.0 :  1.8399380445480347\n",
      "5.0 :  1.8643380403518677\n",
      "6.0 :  2.151791572570801\n",
      "7.0 :  1.9462718963623047\n",
      "8.0 :  1.909009337425232\n",
      "9.0 :  1.6953543424606323\n",
      "10.0 :  2.6425557136535645\n",
      "11.0 :  1.99495267868042\n",
      "12.0 :  1.9248974323272705\n",
      "13.0 :  2.1740379333496094\n",
      "14.0 :  2.010483741760254\n",
      "15.0 :  1.591496467590332\n",
      "16.0 :  1.9034764766693115\n",
      "17.0 :  1.4306987524032593\n",
      "18.0 :  1.6981353759765625\n",
      "19.0 :  1.8663198947906494\n"
     ]
    }
   ],
   "source": [
    "for i in range(200000):\n",
    "    #minibatch construct\n",
    "    bsize = 32\n",
    "    \n",
    "    ix = torch.randint(0, Xtr.shape[0], (bsize,))\n",
    "    \n",
    "    #forward pass\n",
    "    emb = C[Xtr[ix]]\n",
    "    hpreact = emb.view(-1, embdims*block_size) @ W1 + b1 #hidden layer pre activaation\n",
    "    hpreact = bngain * (hpreact - hpreact.mean(0, keepdim=True)) / hpreact.std(0, keepdim=True) + bnbias\n",
    "    h = torch.tanh(hpreact)\n",
    "    logits = h @ W2 + b2\n",
    "    loss = F.cross_entropy(logits, Ytr[ix], label_smoothing=0.0)\n",
    "    #print(loss.item())   \n",
    "    #backward pass\n",
    "    for p in parameters:\n",
    "        p.grad = None\n",
    "    loss.backward()\n",
    "    #update\n",
    "    if i < 100000:\n",
    "        lr = 0.1\n",
    "    else:\n",
    "        if i < 150000: \n",
    "            lr = 0.01\n",
    "        else: \n",
    "            lr = 0.001\n",
    "    for p in parameters:\n",
    "        p.data += -lr * p.grad\n",
    "\n",
    "    #track stats\n",
    "    stepi.append(i)\n",
    "    lossi.append(loss.log10().item())\n",
    "    if i % 10000 == 0:\n",
    "        print(i/10000,': ', loss.item())\n",
    "    # break"
   ]
  },
  {
   "cell_type": "code",
   "execution_count": 17,
   "id": "5f287e7d-cad9-43ed-b567-67734a7bc543",
   "metadata": {},
   "outputs": [
    {
     "name": "stdout",
     "output_type": "stream",
     "text": [
      "torch.Size([32, 300])\n"
     ]
    },
    {
     "data": {
      "text/plain": [
       "<matplotlib.image.AxesImage at 0x7fda80f0ab90>"
      ]
     },
     "execution_count": 17,
     "metadata": {},
     "output_type": "execute_result"
    },
    {
     "data": {
      "image/png": "[encoded data removed]",
      "text/plain": [
       "<Figure size 2000x1000 with 1 Axes>"
      ]
     },
     "metadata": {},
     "output_type": "display_data"
    }
   ],
   "source": [
    "print(h.shape)\n",
    "plt.figure(figsize=(20,10))\n",
    "plt.imshow(h.abs() > 0.99, cmap='gray', interpolation='nearest')"
   ]
  },
  {
   "cell_type": "code",
   "execution_count": 18,
   "id": "b9d5c640-8dc1-4c53-8316-5bbc2639244e",
   "metadata": {},
   "outputs": [
    {
     "name": "stdout",
     "output_type": "stream",
     "text": [
      "1.9960001707077026\n"
     ]
    }
   ],
   "source": [
    "emb = C[Xdev]\n",
    "hpreact = emb.view(-1, embdims*block_size) @ W1 + b1 #hidden layer pre activaation\n",
    "hpreact = bngain * (hpreact - hpreact.mean(0, keepdim=True)) / hpreact.std(0, keepdim=True) + bnbias\n",
    "h = torch.tanh(hpreact)\n",
    "logits = h @ W2 + b2\n",
    "loss = F.cross_entropy(logits, Ydev)\n",
    "print(loss.item())"
   ]
  },
  {
   "cell_type": "code",
   "execution_count": 13,
   "id": "d317a9b6-4d93-435c-ac1c-a9e0558c8f74",
   "metadata": {},
   "outputs": [
    {
     "data": {
      "text/plain": [
       "2.0275490283966064"
      ]
     },
     "execution_count": 13,
     "metadata": {},
     "output_type": "execute_result"
    }
   ],
   "source": [
    "2.0275490283966064"
   ]
  },
  {
   "cell_type": "code",
   "execution_count": 19,
   "id": "beb569c3-4061-4164-a55e-be7095f92757",
   "metadata": {},
   "outputs": [
    {
     "data": {
      "text/plain": [
       "[<matplotlib.lines.Line2D at 0x7fda78457dc0>]"
      ]
     },
     "execution_count": 19,
     "metadata": {},
     "output_type": "execute_result"
    },
    {
     "data": {
      "image/png": "[encoded data removed]",
      "text/plain": [
       "<Figure size 640x480 with 1 Axes>"
      ]
     },
     "metadata": {},
     "output_type": "display_data"
    }
   ],
   "source": [
    "plt.plot(stepi, lossi)"
   ]
  },
  {
   "cell_type": "code",
   "execution_count": 20,
   "id": "9beace67-f234-4f2d-8cd1-8314c624957c",
   "metadata": {},
   "outputs": [],
   "source": [
    "#calibrate the batch norm at the end of training\n",
    "\n",
    "with torch.no_grad():\n",
    "    #pass the training set through\n",
    "    emb = C[Xtr]\n",
    "    embcat = emb.view(emb.shape[0], -1)\n",
    "    hpreact = embcat @ W1 + b1\n",
    "    #measure the mean/std over the entire training set\n",
    "    bnmean = hpreact.mean(0, keepdims=True)\n",
    "    bnstd = hpreact.std(0, keepdim=True)"
   ]
  },
  {
   "cell_type": "code",
   "execution_count": 22,
   "id": "41022127-259f-4ec7-8f60-015606d31148",
   "metadata": {},
   "outputs": [
    {
     "name": "stdout",
     "output_type": "stream",
     "text": [
      "junide.\n",
      "jakari.\n",
      "julisaa.\n",
      "adita.\n",
      "jimritolia.\n",
      "saree.\n",
      "kalina.\n",
      "cyriel.\n",
      "vianna.\n",
      "daine.\n",
      "imbras.\n",
      "jaicay.\n",
      "artez.\n",
      "aveum.\n",
      "kyfor.\n",
      "majon.\n",
      "nasie.\n",
      "hazani.\n",
      "coreaya.\n",
      "jocelynn.\n",
      "brittan.\n",
      "binswyn.\n",
      "leana.\n",
      "snoa.\n",
      "jimonselledgor.\n",
      "mattisi.\n",
      "ziriah.\n",
      "kathan.\n",
      "jayreli.\n",
      "isaye.\n",
      "mirajel.\n",
      "jemah.\n",
      "dawad.\n",
      "pharco.\n",
      "arriyan.\n",
      "jasiriana.\n",
      "lynson.\n",
      "ahmii.\n",
      "laveroni.\n",
      "themia.\n",
      "tawat.\n",
      "frandly.\n",
      "kaleen.\n",
      "ikiysaine.\n",
      "marlene.\n",
      "kafar.\n",
      "saela.\n",
      "antel.\n",
      "chan.\n",
      "jazlon.\n",
      "jacden.\n",
      "jaaliyah.\n",
      "graeten.\n",
      "waylin.\n",
      "vyon.\n",
      "elvin.\n",
      "havaim.\n",
      "hadel.\n",
      "grim.\n",
      "bracen.\n",
      "osia.\n",
      "noaklyn.\n",
      "dennessy.\n",
      "crystin.\n",
      "arvin.\n",
      "kessiannie.\n",
      "jamontavita.\n",
      "deric.\n",
      "kazir.\n",
      "abria.\n",
      "olliah.\n",
      "terry.\n",
      "breus.\n",
      "dasia.\n",
      "natallynn.\n",
      "derris.\n",
      "parria.\n",
      "meondra.\n",
      "darius.\n",
      "mattison.\n",
      "dedick.\n",
      "jacobin.\n",
      "syniveen.\n",
      "journey.\n",
      "tivna.\n",
      "julie.\n",
      "maraf.\n",
      "lanaya.\n",
      "aleyhan.\n",
      "tresti.\n",
      "roseir.\n",
      "deryiah.\n",
      "kalvin.\n",
      "nevia.\n",
      "maul.\n",
      "lacicea.\n",
      "avryne.\n",
      "jakira.\n",
      "josaly.\n",
      "brighteri.\n",
      "khalielah.\n",
      "bhadi.\n",
      "aubreileo.\n",
      "vanna.\n",
      "kelan.\n",
      "zyari.\n",
      "erias.\n",
      "meadayrah.\n",
      "braydon.\n",
      "eyton.\n",
      "zachariah.\n",
      "haneverett.\n",
      "lennex.\n",
      "akin.\n",
      "lazarian.\n",
      "tiyona.\n",
      "isemya.\n",
      "lowen.\n",
      "aleisha.\n",
      "ekston.\n",
      "alejah.\n",
      "finnegichaylei.\n",
      "sovy.\n",
      "brighthmay.\n",
      "semia.\n",
      "seren.\n",
      "jamonte.\n",
      "diamoud.\n",
      "baylen.\n",
      "dillis.\n",
      "kyrei.\n",
      "alviyah.\n",
      "axtyn.\n",
      "deilyn.\n",
      "janali.\n",
      "mhyreee.\n",
      "azah.\n",
      "fawri.\n",
      "pranys.\n",
      "khylee.\n",
      "kela.\n",
      "aunica.\n",
      "lorys.\n",
      "emman.\n",
      "hazainah.\n",
      "dairon.\n",
      "camrinzy.\n",
      "andria.\n",
      "myah.\n",
      "kaws.\n",
      "evaly.\n",
      "leokt.\n",
      "luizip.\n",
      "izadi.\n",
      "keenan.\n",
      "riomy.\n",
      "preylin.\n",
      "clare.\n",
      "kerren.\n",
      "mariti.\n",
      "alacia.\n",
      "legan.\n",
      "rain.\n",
      "alberto.\n",
      "hambert.\n",
      "jinelle.\n",
      "jamarah.\n",
      "careem.\n",
      "jorden.\n",
      "zarae.\n",
      "randi.\n",
      "mikaek.\n",
      "marcely.\n",
      "kemeryt.\n",
      "nakaya.\n",
      "aelqe.\n",
      "estephanya.\n",
      "rincaidyn.\n",
      "mayne.\n",
      "keyaan.\n",
      "yasia.\n",
      "demar.\n",
      "novida.\n",
      "heophynie.\n",
      "lucer.\n",
      "yasiis.\n",
      "jamaylee.\n",
      "tala.\n",
      "laton.\n",
      "gialie.\n",
      "kylyanna.\n",
      "shaime.\n",
      "adyson.\n",
      "osharbel.\n",
      "isair.\n",
      "dreev.\n",
      "quinceim.\n",
      "damari.\n",
      "becket.\n",
      "nuri.\n"
     ]
    }
   ],
   "source": [
    "# sample from the model\n",
    "g = torch.Generator().manual_seed(2147483647)\n",
    "\n",
    "for _ in range(200):\n",
    "    \n",
    "    out = []\n",
    "    context = [0] * block_size # initialize with all ...\n",
    "    while True:\n",
    "          emb = C[torch.tensor([context])] # (1,block_size,d)\n",
    "          hpreact = emb.view(-1, embdims*block_size) @ W1 + b1 #hidden layer pre activaation\n",
    "          hpreact = bngain * (hpreact - bnmean) / bnstd + bnbias\n",
    "          h = torch.tanh(hpreact)\n",
    "          logits = h @ W2 + b2\n",
    "          probs = F.softmax(logits, dim=1)\n",
    "          ix = torch.multinomial(probs, num_samples=1, generator=g).item()\n",
    "          context = context[1:] + [ix]\n",
    "          out.append(ix)\n",
    "          if ix == 0:\n",
    "                break\n",
    "    \n",
    "    print(''.join(itos[i] for i in out))"
   ]
  },
  {
   "cell_type": "code",
   "execution_count": null,
   "id": "f25c06e9-af26-4300-a6ab-ce873c143e5b",
   "metadata": {},
   "outputs": [],
   "source": []
  }
 ],
 "metadata": {
  "kernelspec": {
   "display_name": "Python 3 (ipykernel)",
   "language": "python",
   "name": "python3"
  },
  "language_info": {
   "codemirror_mode": {
    "name": "ipython",
    "version": 3
   },
   "file_extension": ".py",
   "mimetype": "text/x-python",
   "name": "python",
   "nbconvert_exporter": "python",
   "pygments_lexer": "ipython3",
   "version": "3.10.12"
  }
 },
 "nbformat": 4,
 "nbformat_minor": 5
}
